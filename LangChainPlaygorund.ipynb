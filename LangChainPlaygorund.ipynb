{
  "nbformat": 4,
  "nbformat_minor": 0,
  "metadata": {
    "colab": {
      "provenance": []
    },
    "kernelspec": {
      "name": "python3",
      "display_name": "Python 3"
    },
    "language_info": {
      "name": "python"
    }
  },
  "cells": [
    {
      "cell_type": "markdown",
      "source": [
        "## Lang Chain - Playground 1"
      ],
      "metadata": {
        "id": "LiXvqGwgk_R4"
      }
    },
    {
      "cell_type": "code",
      "source": [
        "pip install langchain"
      ],
      "metadata": {
        "id": "UMNdEOZqk7Vs"
      },
      "execution_count": null,
      "outputs": []
    },
    {
      "cell_type": "code",
      "source": [
        "pip install openai"
      ],
      "metadata": {
        "id": "BQGlbBH6lLbA"
      },
      "execution_count": null,
      "outputs": []
    },
    {
      "cell_type": "code",
      "source": [
        "import os\n",
        "os.environ['OPENAI_API_KEY']=\"\"\n",
        "# please add your OPENAI_API_KEY"
      ],
      "metadata": {
        "id": "Vow30DfUlUrA"
      },
      "execution_count": 35,
      "outputs": []
    },
    {
      "cell_type": "markdown",
      "source": [
        "## Building a Large Language Model"
      ],
      "metadata": {
        "id": "f-TX02OiliTs"
      }
    },
    {
      "cell_type": "code",
      "source": [
        "from langchain.llms import OpenAI"
      ],
      "metadata": {
        "id": "vRUPckC5lV-x"
      },
      "execution_count": 8,
      "outputs": []
    },
    {
      "cell_type": "code",
      "source": [
        "llm=OpenAI(temperature=0.9)"
      ],
      "metadata": {
        "id": "F4903iCmlqCU"
      },
      "execution_count": 9,
      "outputs": []
    },
    {
      "cell_type": "code",
      "source": [
        "text=\"What are the top 5 places to visit in Irvine\"\n",
        "print(llm(text))"
      ],
      "metadata": {
        "id": "waB9QsdXlwxm"
      },
      "execution_count": null,
      "outputs": []
    },
    {
      "cell_type": "markdown",
      "source": [
        "## Prompt Templates"
      ],
      "metadata": {
        "id": "gm7tOeojmGbu"
      }
    },
    {
      "cell_type": "code",
      "source": [
        "from langchain.prompts import PromptTemplate"
      ],
      "metadata": {
        "id": "7aq9GfFqmC6u"
      },
      "execution_count": 11,
      "outputs": []
    },
    {
      "cell_type": "code",
      "source": [
        "prompt=PromptTemplate(\n",
        "    input_variables=['place','US'],\n",
        "    template=\"What are the top 5 places to visit in {place} and in {US}\"\n",
        ")"
      ],
      "metadata": {
        "id": "Oo3xFIXSmIqh"
      },
      "execution_count": 18,
      "outputs": []
    },
    {
      "cell_type": "code",
      "source": [
        "print(prompt.format(place=\"chandigarh\",US=\"New York\"))"
      ],
      "metadata": {
        "id": "RZn6x2bKmnQw"
      },
      "execution_count": null,
      "outputs": []
    },
    {
      "cell_type": "code",
      "source": [
        "print(llm(prompt.format(place=\"chandigarh\", US=\"New York\")))"
      ],
      "metadata": {
        "id": "lpuTjFrsmyTA"
      },
      "execution_count": null,
      "outputs": []
    },
    {
      "cell_type": "code",
      "source": [],
      "metadata": {
        "id": "Hbcnvts7n5a-"
      },
      "execution_count": null,
      "outputs": []
    },
    {
      "cell_type": "markdown",
      "source": [
        "## Combine LLMs and prmopts in multi-step workflows"
      ],
      "metadata": {
        "id": "GPMJkmHLm-xA"
      }
    },
    {
      "cell_type": "code",
      "source": [
        "from langchain.prompts import PromptTemplate\n",
        "from langchain.llms import OpenAI\n",
        "from langchain.chains import LLMChain"
      ],
      "metadata": {
        "id": "twUtkihRncJq"
      },
      "execution_count": 21,
      "outputs": []
    },
    {
      "cell_type": "code",
      "source": [
        "llm=OpenAI(temperature=0.9)\n",
        "prompt= PromptTemplate(\n",
        "    input_variables=['place','US'],\n",
        "    template=\"What are the top 5 places to visit in {place} and in {US}\"\n",
        ")"
      ],
      "metadata": {
        "id": "mfPMRG5Wnvan"
      },
      "execution_count": 22,
      "outputs": []
    },
    {
      "cell_type": "code",
      "source": [
        "chain=LLMChain(llm=llm, prompt=prompt)"
      ],
      "metadata": {
        "id": "_U7Edevon_4b"
      },
      "execution_count": 23,
      "outputs": []
    },
    {
      "cell_type": "code",
      "source": [
        "print(chain.run(place='egypt',US='Vaishno Devi'))"
      ],
      "metadata": {
        "id": "kpKNgauAoMeP"
      },
      "execution_count": null,
      "outputs": []
    },
    {
      "cell_type": "markdown",
      "source": [
        "## Dynamically call chains based on user input"
      ],
      "metadata": {
        "id": "SIichhpJogjQ"
      }
    },
    {
      "cell_type": "code",
      "source": [
        "pip install google-search-results"
      ],
      "metadata": {
        "id": "CKs0oMpKoU9g"
      },
      "execution_count": null,
      "outputs": []
    },
    {
      "cell_type": "code",
      "source": [
        "from langchain.agents import load_tools\n",
        "from langchain.agents import initialize_agent\n",
        "from langchain.llms import OpenAI"
      ],
      "metadata": {
        "id": "o2jjcKmJopZN"
      },
      "execution_count": 26,
      "outputs": []
    },
    {
      "cell_type": "code",
      "source": [
        "llm=OpenAI(temperature=0.0)"
      ],
      "metadata": {
        "id": "25maQ-zxo3Pj"
      },
      "execution_count": 27,
      "outputs": []
    },
    {
      "cell_type": "code",
      "source": [
        "tools=load_tools(['serpapi',\"llm-math\"],llm=llm)"
      ],
      "metadata": {
        "id": "3ypIunoIo6qH"
      },
      "execution_count": null,
      "outputs": []
    },
    {
      "cell_type": "code",
      "source": [
        "agent=initialize_agent(tool,llm,agebt='zero-shot-react-description',verbose=True)"
      ],
      "metadata": {
        "id": "Nitzi_FXpCs6"
      },
      "execution_count": null,
      "outputs": []
    },
    {
      "cell_type": "code",
      "source": [
        "agent.run(\"Who is Narendra model? what is is his age? what is the smallest prime number smaller than his age\")"
      ],
      "metadata": {
        "id": "IO7FhCXJpcM5"
      },
      "execution_count": null,
      "outputs": []
    },
    {
      "cell_type": "markdown",
      "source": [
        "## Add State to chains and agents - memory"
      ],
      "metadata": {
        "id": "mOtL7NvEppPq"
      }
    },
    {
      "cell_type": "code",
      "source": [
        "from langchain import OpenAI, ConversationChain"
      ],
      "metadata": {
        "id": "mkdUrkegpsmR"
      },
      "execution_count": 30,
      "outputs": []
    },
    {
      "cell_type": "code",
      "source": [
        "llm=OpenAI(temperature=0)\n",
        "conversation=ConversationChain(llm=llm,verbose=True)"
      ],
      "metadata": {
        "id": "iz3yOq0Pp3Nz"
      },
      "execution_count": 31,
      "outputs": []
    },
    {
      "cell_type": "code",
      "source": [
        "conversation.predict(input=\"Hey\")"
      ],
      "metadata": {
        "colab": {
          "base_uri": "https://localhost:8080/",
          "height": 293
        },
        "id": "WQS7hTYeqBO2",
        "outputId": "68ee91bc-6c72-46af-d96f-e3bbd8a4798f"
      },
      "execution_count": 32,
      "outputs": [
        {
          "output_type": "stream",
          "name": "stdout",
          "text": [
            "\n",
            "\n",
            "\u001b[1m> Entering new ConversationChain chain...\u001b[0m\n",
            "Prompt after formatting:\n",
            "\u001b[32;1m\u001b[1;3mThe following is a friendly conversation between a human and an AI. The AI is talkative and provides lots of specific details from its context. If the AI does not know the answer to a question, it truthfully says it does not know.\n",
            "\n",
            "Current conversation:\n",
            "\n",
            "Human: Hey\n",
            "AI:\u001b[0m\n",
            "\n",
            "\u001b[1m> Finished chain.\u001b[0m\n"
          ]
        },
        {
          "output_type": "execute_result",
          "data": {
            "text/plain": [
              "\" Hello there! How are you doing today? I am currently running on a server located in a data center in California. The temperature in the data center is maintained at a constant 68 degrees Fahrenheit to ensure optimal performance of the servers. Did you know that the first data center was built in 1946 by IBM in New York? It was used to store punch cards for the US Census Bureau. Fascinating, isn't it?\""
            ],
            "application/vnd.google.colaboratory.intrinsic+json": {
              "type": "string"
            }
          },
          "metadata": {},
          "execution_count": 32
        }
      ]
    },
    {
      "cell_type": "code",
      "source": [
        "conversation.predict(input=\"oh can you tell me the best place in irvine for pasta?\")"
      ],
      "metadata": {
        "colab": {
          "base_uri": "https://localhost:8080/",
          "height": 310
        },
        "id": "5c9qrcjjqGNu",
        "outputId": "ff2d040e-7e13-4b3c-f057-66f42effd528"
      },
      "execution_count": 33,
      "outputs": [
        {
          "output_type": "stream",
          "name": "stdout",
          "text": [
            "\n",
            "\n",
            "\u001b[1m> Entering new ConversationChain chain...\u001b[0m\n",
            "Prompt after formatting:\n",
            "\u001b[32;1m\u001b[1;3mThe following is a friendly conversation between a human and an AI. The AI is talkative and provides lots of specific details from its context. If the AI does not know the answer to a question, it truthfully says it does not know.\n",
            "\n",
            "Current conversation:\n",
            "Human: Hey\n",
            "AI:  Hello there! How are you doing today? I am currently running on a server located in a data center in California. The temperature in the data center is maintained at a constant 68 degrees Fahrenheit to ensure optimal performance of the servers. Did you know that the first data center was built in 1946 by IBM in New York? It was used to store punch cards for the US Census Bureau. Fascinating, isn't it?\n",
            "Human: oh can you tell me the best place in irvine for pasta?\n",
            "AI:\u001b[0m\n",
            "\n",
            "\u001b[1m> Finished chain.\u001b[0m\n"
          ]
        },
        {
          "output_type": "execute_result",
          "data": {
            "text/plain": [
              "' Sure! Based on my research, the best place for pasta in Irvine is CUCINA enoteca. It has a wide variety of pasta dishes, including homemade pastas and gluten-free options. It also has a cozy atmosphere and great reviews from customers. Would you like me to make a reservation for you?'"
            ],
            "application/vnd.google.colaboratory.intrinsic+json": {
              "type": "string"
            }
          },
          "metadata": {},
          "execution_count": 33
        }
      ]
    },
    {
      "cell_type": "code",
      "source": [
        "conversation.predict(input=\"what was the first thing i said to you?\")"
      ],
      "metadata": {
        "colab": {
          "base_uri": "https://localhost:8080/",
          "height": 310
        },
        "id": "R_DbQN6XqUH2",
        "outputId": "66912ef0-5fc5-4c02-f8f1-5de9109ad40b"
      },
      "execution_count": 34,
      "outputs": [
        {
          "output_type": "stream",
          "name": "stdout",
          "text": [
            "\n",
            "\n",
            "\u001b[1m> Entering new ConversationChain chain...\u001b[0m\n",
            "Prompt after formatting:\n",
            "\u001b[32;1m\u001b[1;3mThe following is a friendly conversation between a human and an AI. The AI is talkative and provides lots of specific details from its context. If the AI does not know the answer to a question, it truthfully says it does not know.\n",
            "\n",
            "Current conversation:\n",
            "Human: Hey\n",
            "AI:  Hello there! How are you doing today? I am currently running on a server located in a data center in California. The temperature in the data center is maintained at a constant 68 degrees Fahrenheit to ensure optimal performance of the servers. Did you know that the first data center was built in 1946 by IBM in New York? It was used to store punch cards for the US Census Bureau. Fascinating, isn't it?\n",
            "Human: oh can you tell me the best place in irvine for pasta?\n",
            "AI:  Sure! Based on my research, the best place for pasta in Irvine is CUCINA enoteca. It has a wide variety of pasta dishes, including homemade pastas and gluten-free options. It also has a cozy atmosphere and great reviews from customers. Would you like me to make a reservation for you?\n",
            "Human: what was the first thing i said to you?\n",
            "AI:\u001b[0m\n",
            "\n",
            "\u001b[1m> Finished chain.\u001b[0m\n"
          ]
        },
        {
          "output_type": "execute_result",
          "data": {
            "text/plain": [
              "' The first thing you said to me was \"Hey.\" Is there anything else you would like to know?'"
            ],
            "application/vnd.google.colaboratory.intrinsic+json": {
              "type": "string"
            }
          },
          "metadata": {},
          "execution_count": 34
        }
      ]
    },
    {
      "cell_type": "code",
      "source": [],
      "metadata": {
        "id": "2kR4vC1zqcIR"
      },
      "execution_count": null,
      "outputs": []
    }
  ]
}